{
 "cells": [
  {
   "cell_type": "code",
   "execution_count": 1,
   "metadata": {},
   "outputs": [
    {
     "name": "stdout",
     "output_type": "stream",
     "text": [
      "{'country_code': 'ES', 'country_name': 'Spain', 'region_name': 'Valenciana, Comunidad', 'city_name': 'Alicante', 'latitude': '38.345028', 'longitude': '-0.481315', 'zipcode': '03559', 'timezone': '+02:00'}\n"
     ]
    }
   ],
   "source": [
    "import IP2Location\n",
    "from pymongo import MongoClient\n",
    "from tqdm import tqdm\n",
    "\n",
    "# Initialize the IP2Location object\n",
    "ip2location = IP2Location.IP2Location()\n",
    "\n",
    "# Load the BIN database (replace 'path/to/IP2LOCATION-LITE-DB.BIN' with your actual BIN file path)\n",
    "ip2location.open(\"/Users/dai/Documents/Data_Engineer/DE_K9_Final/IP2Location-Python-master/data/IP2LOCATION-LITE-DB11.BIN\")\n",
    "\n",
    "# Connect to MongoDB (replace 'mongodb://localhost:27017/' with your MongoDB connection string)\n",
    "client = MongoClient('mongodb://localhost:27017/')\n",
    "db = client['glamira']\n",
    "collection = db['summary']\n",
    "\n",
    "# Function to enrich IP data\n",
    "def enrich_ip_data(ip):\n",
    "    record = ip2location.get_all(ip)\n",
    "    return {\n",
    "        \"country_code\": record.country_short,\n",
    "        \"country_name\": record.country_long,\n",
    "        \"region_name\": record.region,\n",
    "        \"city_name\": record.city,\n",
    "        \"latitude\": record.latitude,\n",
    "        \"longitude\": record.longitude,\n",
    "        \"zipcode\": record.zipcode,\n",
    "        \"timezone\": record.timezone\n",
    "    }\n",
    "\n",
    "ip_address = \"212.237.237.184\"\n",
    "result  = enrich_ip_data(ip_address)\n",
    "print(result)"
   ]
  }
 ],
 "metadata": {
  "kernelspec": {
   "display_name": "Python 3",
   "language": "python",
   "name": "python3"
  },
  "language_info": {
   "codemirror_mode": {
    "name": "ipython",
    "version": 3
   },
   "file_extension": ".py",
   "mimetype": "text/x-python",
   "name": "python",
   "nbconvert_exporter": "python",
   "pygments_lexer": "ipython3",
   "version": "3.11.9"
  }
 },
 "nbformat": 4,
 "nbformat_minor": 2
}
