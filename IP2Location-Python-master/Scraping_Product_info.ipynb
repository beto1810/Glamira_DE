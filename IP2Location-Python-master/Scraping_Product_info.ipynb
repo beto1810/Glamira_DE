{
 "cells": [
  {
   "cell_type": "code",
   "execution_count": 22,
   "metadata": {},
   "outputs": [
    {
     "name": "stdout",
     "output_type": "stream",
     "text": [
      "Women's Earring Louisa\n"
     ]
    }
   ],
   "source": [
    "import os\n",
    "import requests\n",
    "import re\n",
    "from bs4 import BeautifulSoup\n",
    "from urllib.parse import urlparse\n",
    "import urllib.parse\n",
    "import random\n",
    "import concurrent.futures\n",
    "import xml.etree.ElementTree as ET\n",
    "import time\n",
    "import json \n",
    "from scraping_product import scraping_product\n",
    "\n",
    "\n",
    "list_html = [\"https://www.glamira.fr/glamira-pendant-viktor.html?alloy=yellow-375\", \"https://www.glamira.com.au/glamira-diamonds-ohrstecker-louisa-skug100735.html?alloy=white-585&diamond=diamond-sapphire&gclid=EAIaIQobChMIsKGy3_fn6QIVSA4rCh3xvQ1uEAQYASABEgIYu_D_BwE\",\"https://www.glamira.com/glamira-ring-reyneke.html?diamond=diamond-sapphire&stone2=diamond-Brillant&alloy=red-585\"]\n",
    "\n",
    "\n",
    "link = list_html[1]\n",
    "\n",
    "\n",
    "name, category, gender , image_urls = scraping_product(link)\n",
    "\n",
    "print(name)\n",
    "\n",
    "\n",
    "\n",
    "\n",
    "\n",
    "\n",
    "\n"
   ]
  }
 ],
 "metadata": {
  "kernelspec": {
   "display_name": "Python 3",
   "language": "python",
   "name": "python3"
  },
  "language_info": {
   "codemirror_mode": {
    "name": "ipython",
    "version": 3
   },
   "file_extension": ".py",
   "mimetype": "text/x-python",
   "name": "python",
   "nbconvert_exporter": "python",
   "pygments_lexer": "ipython3",
   "version": "3.10.11"
  }
 },
 "nbformat": 4,
 "nbformat_minor": 2
}
