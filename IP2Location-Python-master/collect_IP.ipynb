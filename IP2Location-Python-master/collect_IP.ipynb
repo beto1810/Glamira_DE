{
 "cells": [
  {
   "cell_type": "code",
   "execution_count": 6,
   "metadata": {},
   "outputs": [
    {
     "name": "stderr",
     "output_type": "stream",
     "text": [
      "Enriching IP Data: 100%|██████████| 41432473/41432473 [1:41:23<00:00, 6810.71doc/s]  "
     ]
    },
    {
     "name": "stdout",
     "output_type": "stream",
     "text": [
      "IP data enrichment complete.\n"
     ]
    },
    {
     "name": "stderr",
     "output_type": "stream",
     "text": [
      "\n"
     ]
    }
   ],
   "source": [
    "import IP2Location\n",
    "from pymongo import MongoClient\n",
    "from tqdm import tqdm\n",
    "\n",
    "# Initialize the IP2Location object\n",
    "ip2location = IP2Location.IP2Location()\n",
    "\n",
    "# Load the BIN database (replace 'path/to/IP2LOCATION-LITE-DB.BIN' with your actual BIN file path)\n",
    "ip2location.open(\"/Users/dai/Documents/Data_Engineer/DE_K9_Final/IP2Location-Python-master/data/IP2LOCATION-LITE-DB11.BIN\")\n",
    "\n",
    "# Connect to MongoDB (replace 'mongodb://localhost:27017/' with your MongoDB connection string)\n",
    "client = MongoClient('mongodb://localhost:27017/')\n",
    "db = client['glamira']\n",
    "collection = db['summary']\n",
    "\n",
    "# Function to enrich IP data\n",
    "def enrich_ip_data(ip):\n",
    "    record = ip2location.get_all(ip)\n",
    "    return {\n",
    "        \"country_code\": record.country_short,\n",
    "        \"country_name\": record.country_long,\n",
    "        \"region_name\": record.region,\n",
    "        \"city_name\": record.city,\n",
    "        \"latitude\": record.latitude,\n",
    "        \"longitude\": record.longitude,\n",
    "        \"zipcode\": record.zipcode,\n",
    "        \"timezone\": record.timezone\n",
    "    }\n",
    "\n",
    "# Get the total number of documents\n",
    "total_documents = collection.count_documents({})\n",
    "\n",
    "# Create a progress bar and process documents\n",
    "batch_size = 100  # Adjust batch size as needed\n",
    "batch_updates = []\n",
    "\n",
    "with tqdm(total=total_documents, desc=\"Enriching IP Data\", unit='doc') as pbar:\n",
    "    for document in collection.find():\n",
    "        ip = document['ip']  # Assuming the IP address is stored as the \"ip\" field\n",
    "        enriched_data = enrich_ip_data(ip)\n",
    "        batch_updates.append({'_id': document['_id'], **enriched_data})\n",
    "        \n",
    "        if len(batch_updates) >= batch_size:\n",
    "            # Perform batch update\n",
    "            for update in batch_updates:\n",
    "                collection.update_one({'_id': update['_id']}, {'$set': update}, upsert=True)\n",
    "            batch_updates = []\n",
    "        \n",
    "        pbar.update(1)  # Update progress bar for each processed document\n",
    "\n",
    "    # Update remaining documents in batch\n",
    "    if batch_updates:\n",
    "        for update in batch_updates:\n",
    "            collection.update_one({'_id': update['_id']}, {'$set': update}, upsert=True)\n",
    "\n",
    "print(\"IP data enrichment complete.\")\n"
   ]
  }
 ],
 "metadata": {
  "kernelspec": {
   "display_name": "Python 3",
   "language": "python",
   "name": "python3"
  },
  "language_info": {
   "codemirror_mode": {
    "name": "ipython",
    "version": 3
   },
   "file_extension": ".py",
   "mimetype": "text/x-python",
   "name": "python",
   "nbconvert_exporter": "python",
   "pygments_lexer": "ipython3",
   "version": "3.11.9"
  }
 },
 "nbformat": 4,
 "nbformat_minor": 2
}
